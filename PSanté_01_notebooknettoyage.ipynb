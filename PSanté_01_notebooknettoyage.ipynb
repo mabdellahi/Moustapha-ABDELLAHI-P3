{
 "cells": [
  {
   "cell_type": "code",
   "execution_count": null,
   "id": "4e883359",
   "metadata": {},
   "outputs": [],
   "source": [
    "# -*-coding:utf-8 -*\n",
    "# importer les packages\n",
    "%matplotlib inline\n",
    "import pandas as pd\n",
    "import numpy as np\n",
    "import matplotlib.pyplot as plt\n",
    "import seaborn as sns\n",
    "from scipy.stats import norm\n",
    "from functools import reduce\n",
    "from pandas import DataFrame, Series\n",
    "from sklearn.experimental import enable_iterative_imputer\n",
    "from sklearn.impute import IterativeImputer\n",
    "from sklearn.ensemble import ExtraTreesRegressor\n",
    "\n",
    "pd.set_option('display.max_columns', 200)\n",
    "pd.set_option('display.max_rows', 1000)\n",
    "pd.set_option('display.max_colwidth', None)\n"
   ]
  },
  {
   "cell_type": "code",
   "execution_count": null,
   "id": "c2af8ad0",
   "metadata": {},
   "outputs": [],
   "source": [
    "# Installer le package missingno\n",
    "\n",
    "!pip install missingno"
   ]
  },
  {
   "cell_type": "code",
   "execution_count": null,
   "id": "e80d327c",
   "metadata": {},
   "outputs": [],
   "source": [
    "import missingno as msno"
   ]
  },
  {
   "cell_type": "markdown",
   "id": "550645d2",
   "metadata": {},
   "source": [
    "<b> Analyse de la forme des données <b>"
   ]
  },
  {
   "cell_type": "code",
   "execution_count": null,
   "id": "f8fe38f0",
   "metadata": {},
   "outputs": [],
   "source": [
    "# Lire le fichier des donneAnalyse de forme des donnéeses  \"fr.openfoodfacts.org.products\"\n",
    "\n",
    "df=pd.read_csv(\"\\\\Users\\\\asus\\\\Desktop\\\\FORMATION_2122\\\\PROJET3\\\\fr.openfoodfacts.org.products.csv\",sep='\\t')\n",
    " "
   ]
  },
  {
   "cell_type": "code",
   "execution_count": null,
   "id": "20e0533a",
   "metadata": {},
   "outputs": [],
   "source": [
    "# Pour voir les valeurs manquantes\n",
    "df.info()"
   ]
  },
  {
   "cell_type": "code",
   "execution_count": null,
   "id": "637da0f5",
   "metadata": {},
   "outputs": [],
   "source": [
    "df.head(1)"
   ]
  },
  {
   "cell_type": "code",
   "execution_count": null,
   "id": "0fd929f5",
   "metadata": {},
   "outputs": [],
   "source": [
    "df.shape"
   ]
  },
  {
   "cell_type": "code",
   "execution_count": null,
   "id": "e5baef6d",
   "metadata": {},
   "outputs": [],
   "source": [
    "# Pour voir les types des variables\n",
    "\n",
    "df.dtypes.value_counts()"
   ]
  },
  {
   "cell_type": "code",
   "execution_count": null,
   "id": "871c699f",
   "metadata": {},
   "outputs": [],
   "source": [
    "# To display the missing values in the dataframe\n",
    "msno.bar(df)"
   ]
  },
  {
   "cell_type": "code",
   "execution_count": null,
   "id": "7b33b07b",
   "metadata": {},
   "outputs": [],
   "source": [
    "\n",
    "# To display the missing values in the dataframe\n",
    "msno.matrix(df, sparkline=True, figsize=(10,5), fontsize=12, color=(0.27, 0.52, 1.0));"
   ]
  },
  {
   "cell_type": "code",
   "execution_count": null,
   "id": "36adf2db",
   "metadata": {},
   "outputs": [],
   "source": [
    "# To display percentage of the missing values in the dataframe\n",
    "null_percent = df.isnull().sum() / df.shape[0]\n",
    "null_percent.value_counts"
   ]
  },
  {
   "cell_type": "code",
   "execution_count": null,
   "id": "24d76db4",
   "metadata": {},
   "outputs": [],
   "source": [
    "# lire le fichier des donnees  \"data-fields\"\n",
    "\n",
    "df_var = pd.read_table(\"C:\\\\Users\\\\asus\\\\Desktop\\\\FORMATION_2122\\\\PROJET3\\\\data-fields.txt\")\n",
    "df_var"
   ]
  },
  {
   "cell_type": "markdown",
   "id": "04a44096",
   "metadata": {},
   "source": [
    "<b> Choix des variables <b>"
   ]
  },
  {
   "cell_type": "code",
   "execution_count": null,
   "id": "fbd33d0a",
   "metadata": {},
   "outputs": [],
   "source": [
    "# Choisir la liste des variables pertinentes dans les donnees \"fr.openfoodfacts.org.products\"\n",
    "\n",
    "var_pert = ['code', 'product_name','countries_fr','ingredients_text', 'additives_n',\n",
    "            'nutrition_grade_fr', 'pnns_groups_1', 'pnns_groups_2','energy_100g', \n",
    "            'omega-3-fat_100g','fat_100g','saturated-fat_100g', 'carbohydrates_100g',  \n",
    "            'sugars_100g','fiber_100g','proteins_100g', 'salt_100g','sodium_100g', \n",
    "            'vitamin-a_100g', 'vitamin-c_100g', 'nutrition-score-fr_100g']"
   ]
  },
  {
   "cell_type": "code",
   "execution_count": null,
   "id": "52184d51",
   "metadata": {},
   "outputs": [],
   "source": [
    "len(var_pert)"
   ]
  },
  {
   "cell_type": "code",
   "execution_count": null,
   "id": "dcaa7bf3",
   "metadata": {},
   "outputs": [],
   "source": [
    "# filtrer df pour obtenir un dataframe dont les variables sont dans la liste 'var_pert'\n",
    "\n",
    "df1 = df[var_pert]"
   ]
  },
  {
   "cell_type": "code",
   "execution_count": null,
   "id": "8a0930fe",
   "metadata": {},
   "outputs": [],
   "source": [
    "df1.set_index(\"code\", inplace=True)"
   ]
  },
  {
   "cell_type": "code",
   "execution_count": null,
   "id": "43c8f880",
   "metadata": {},
   "outputs": [],
   "source": [
    "df1.head(1)"
   ]
  },
  {
   "cell_type": "code",
   "execution_count": null,
   "id": "4619aa71",
   "metadata": {},
   "outputs": [],
   "source": [
    "df1.shape"
   ]
  },
  {
   "cell_type": "code",
   "execution_count": null,
   "id": "8b6afcac",
   "metadata": {},
   "outputs": [],
   "source": [
    "# filtrer le dataset  df  pour ne garder que les produits francais\n",
    "\n",
    "df2 = df1.loc[df1['countries_fr']=='France']\n"
   ]
  },
  {
   "cell_type": "code",
   "execution_count": null,
   "id": "39ef40d6",
   "metadata": {},
   "outputs": [],
   "source": [
    "df2.head()"
   ]
  },
  {
   "cell_type": "code",
   "execution_count": null,
   "id": "3c0383fd",
   "metadata": {},
   "outputs": [],
   "source": [
    "df2.shape"
   ]
  },
  {
   "cell_type": "code",
   "execution_count": null,
   "id": "93014dc0",
   "metadata": {},
   "outputs": [],
   "source": [
    "# the number of unique entries\n",
    "# To display number of different values of a variable\n",
    "df2.nunique().sort_values() "
   ]
  },
  {
   "cell_type": "code",
   "execution_count": null,
   "id": "3d8be640",
   "metadata": {},
   "outputs": [],
   "source": [
    "# Pourcentage de remplissage des variables\n",
    "\n",
    "df2.notnull().sum()/df2.shape[0]"
   ]
  },
  {
   "cell_type": "code",
   "execution_count": null,
   "id": "18ba6395",
   "metadata": {},
   "outputs": [],
   "source": [
    "# Number of duplicate values  \n",
    "df2.duplicated(subset=None, keep=False).sum()"
   ]
  },
  {
   "cell_type": "code",
   "execution_count": null,
   "id": "10f3ec3a",
   "metadata": {},
   "outputs": [],
   "source": [
    "# Suppression des valeurs dupliquees\n",
    "\n",
    "df2.drop_duplicates(keep=False,inplace=True)\n",
    "\n"
   ]
  },
  {
   "cell_type": "code",
   "execution_count": null,
   "id": "c0e53b99",
   "metadata": {},
   "outputs": [],
   "source": [
    "df2.shape"
   ]
  },
  {
   "cell_type": "code",
   "execution_count": null,
   "id": "a6c741a2",
   "metadata": {},
   "outputs": [],
   "source": [
    "df2.dtypes"
   ]
  },
  {
   "cell_type": "code",
   "execution_count": null,
   "id": "9d179581",
   "metadata": {},
   "outputs": [],
   "source": [
    "# Pourcentages de repartition des variables dans df2\n",
    "df2.dtypes.value_counts().plot.pie(autopct='%1.1f%%')"
   ]
  },
  {
   "cell_type": "code",
   "execution_count": null,
   "id": "e53c7607",
   "metadata": {},
   "outputs": [],
   "source": [
    "# Remettre le \"code\" comme colonne\n",
    "\n",
    "df2.reset_index(\"code\", inplace=True)"
   ]
  },
  {
   "cell_type": "code",
   "execution_count": null,
   "id": "4a3e33d4",
   "metadata": {},
   "outputs": [],
   "source": [
    "# Histogramme de distribution des variables\n",
    "\n",
    "plt.figure(figsize=(4,5))\n",
    "sns.histplot(df2.dtypes.astype('string'), color = 'lightblue')"
   ]
  },
  {
   "cell_type": "code",
   "execution_count": null,
   "id": "c83a7526",
   "metadata": {},
   "outputs": [],
   "source": [
    "df2"
   ]
  },
  {
   "cell_type": "code",
   "execution_count": null,
   "id": "329291e8",
   "metadata": {},
   "outputs": [],
   "source": [
    "# Les valeurs manquantes des differentes variables\n",
    "\n",
    "figure = plt.figure(figsize = (10,3))\n",
    "sns.set_context('poster', font_scale = 1)\n",
    "sns.heatmap(df2.isna(), cmap = \"Blues_r\")"
   ]
  },
  {
   "cell_type": "code",
   "execution_count": null,
   "id": "82a6a69e",
   "metadata": {},
   "outputs": [],
   "source": [
    "# Nombre de valeurs manquantes par variable\n",
    "df2.isna().sum()"
   ]
  },
  {
   "cell_type": "code",
   "execution_count": null,
   "id": "974a0930",
   "metadata": {},
   "outputs": [],
   "source": [
    "df2.shape"
   ]
  },
  {
   "cell_type": "code",
   "execution_count": null,
   "id": "14f9e912",
   "metadata": {},
   "outputs": [],
   "source": [
    "# Filtrage du dataset df_serving pour que 'product_name' soit different de NaN\n",
    "\n",
    "df2 = df2[df2['product_name'].notnull()]\n"
   ]
  },
  {
   "cell_type": "code",
   "execution_count": null,
   "id": "2828cf27",
   "metadata": {},
   "outputs": [],
   "source": [
    "len(df2)"
   ]
  },
  {
   "cell_type": "markdown",
   "id": "d3332a8a",
   "metadata": {},
   "source": [
    " <b> Valeurs aberrantes des variables <b>"
   ]
  },
  {
   "cell_type": "code",
   "execution_count": null,
   "id": "c4a4dfc9",
   "metadata": {},
   "outputs": [],
   "source": [
    "# Valeurs aberrantes pour la variable 'omega-3-fat_100g '  \n",
    "\n",
    "df2[df2['omega-3-fat_100g']>100].index.tolist()"
   ]
  },
  {
   "cell_type": "code",
   "execution_count": null,
   "id": "d55957ce",
   "metadata": {},
   "outputs": [],
   "source": [
    " # les colonnes du dataset dont les valeurs de la variable 'omega-3-fat_100g' ne sont pas NaN      \n",
    "\n",
    "omega_selected_rows = df2[~df2['omega-3-fat_100g'].isna()]"
   ]
  },
  {
   "cell_type": "code",
   "execution_count": null,
   "id": "e6381e56",
   "metadata": {},
   "outputs": [],
   "source": [
    "omega_selected_rows.shape"
   ]
  },
  {
   "cell_type": "code",
   "execution_count": null,
   "id": "7bc3cb9a",
   "metadata": {},
   "outputs": [],
   "source": [
    "# get names of indexes for which column 'fat_100g'>100 or 'fat_100g'<0\n",
    "# Valeurs aberrantes de la variable 'fat_100g'\n",
    "\n",
    "index_fat = df2[(df2['fat_100g']>100) | (df2['fat_100g']<0)].index "
   ]
  },
  {
   "cell_type": "code",
   "execution_count": null,
   "id": "248eae9c",
   "metadata": {},
   "outputs": [],
   "source": [
    "index_fat"
   ]
  },
  {
   "cell_type": "code",
   "execution_count": null,
   "id": "0deba4c2",
   "metadata": {},
   "outputs": [],
   "source": [
    "# get names of indexes for which column 'saturated-fat_100g'>100 or 'saturated-fat_100g'<0\n",
    "# Valeurs aberrantes de la variable 'saturated-fat_100g'\n",
    "\n",
    "index_Sfat = df2[(df2['saturated-fat_100g']>100) | (df2['saturated-fat_100g']<0)].index"
   ]
  },
  {
   "cell_type": "code",
   "execution_count": null,
   "id": "56b37208",
   "metadata": {},
   "outputs": [],
   "source": [
    "index_Sfat"
   ]
  },
  {
   "cell_type": "code",
   "execution_count": null,
   "id": "91f8d8fd",
   "metadata": {},
   "outputs": [],
   "source": [
    "# get names of indexes for which column 'saturated-fat_100g'>100 or 'saturated-fat_100g'<0\n",
    "# Valeurs aberrantes de la variable 'carbohydrates_100g'\n",
    "\n",
    "index_carbo = df2[(df2['carbohydrates_100g']>100) | (df2['carbohydrates_100g']<0)].index"
   ]
  },
  {
   "cell_type": "code",
   "execution_count": null,
   "id": "57898f61",
   "metadata": {},
   "outputs": [],
   "source": [
    "index_carbo"
   ]
  },
  {
   "cell_type": "code",
   "execution_count": null,
   "id": "f31b3e92",
   "metadata": {},
   "outputs": [],
   "source": [
    "# get names of indexes for which column 'sugars_100g'>100 or 'sugars_100g'<0\n",
    "# Les valeurs aberrantes de la variable 'sugars_100g'\n",
    "\n",
    "index_sugar = df2[(df2['sugars_100g']>100) | (df2['sugars_100g']<0)].index\n"
   ]
  },
  {
   "cell_type": "code",
   "execution_count": null,
   "id": "386ef270",
   "metadata": {},
   "outputs": [],
   "source": [
    "index_sugar"
   ]
  },
  {
   "cell_type": "code",
   "execution_count": null,
   "id": "6e7e6555",
   "metadata": {},
   "outputs": [],
   "source": [
    "# get names of indexes for which column 'fiber_100g'>100 or 'fiber_100g'<0\n",
    "# Les valeurs aberrantes de la variable 'fiber_100g'\n",
    "\n",
    "index_fiber = df2[(df2['fiber_100g']>100) | (df2['fiber_100g']<0)].index\n",
    "len(index_fiber) "
   ]
  },
  {
   "cell_type": "code",
   "execution_count": null,
   "id": "a5a37e9c",
   "metadata": {},
   "outputs": [],
   "source": [
    "# Les valeurs aberrantes de la variable proteins_100g'\n",
    "\n",
    "Protein_aber = df2[(df2['proteins_100g']>100) | (df2['proteins_100g']<0)].index.tolist()\n",
    "len(Protein_aber)"
   ]
  },
  {
   "cell_type": "code",
   "execution_count": null,
   "id": "cbf354ae",
   "metadata": {},
   "outputs": [],
   "source": [
    "# get names of indexes for which column 'salt_100g'>100 or 'salt_100g'<0\n",
    "# Les valeurs aberrantes de la variable 'salt_100g'\n",
    "\n",
    "index_salt = df2[(df2['salt_100g']>100) | (df2['salt_100g']<0)].index\n",
    "len(index_salt)"
   ]
  },
  {
   "cell_type": "code",
   "execution_count": null,
   "id": "4c3c76f6",
   "metadata": {},
   "outputs": [],
   "source": [
    "index_salt"
   ]
  },
  {
   "cell_type": "code",
   "execution_count": null,
   "id": "f27b67f3",
   "metadata": {},
   "outputs": [],
   "source": [
    "# Les valeurs aberrantes de la variable 'sodium_100g'\n",
    "\n",
    "index_sodium = df2[(df2['sodium_100g']>100) | (df2['sodium_100g']<0)].index.tolist()\n",
    "len(index_sodium)\n"
   ]
  },
  {
   "cell_type": "code",
   "execution_count": null,
   "id": "8f648e65",
   "metadata": {},
   "outputs": [],
   "source": [
    "# Les valeurs aberrantes de la variable 'vitamin-a_100g'\n",
    "\n",
    "index_vitamin_a = df2[(df2['vitamin-a_100g']>100) | (df2['vitamin-a_100g']<0)].index.tolist()\n",
    "len(index_vitamin_a)"
   ]
  },
  {
   "cell_type": "code",
   "execution_count": null,
   "id": "954b3b67",
   "metadata": {},
   "outputs": [],
   "source": [
    "index_vitamin_c = df2[(df2['vitamin-c_100g']>100) | (df2['vitamin-c_100g']<0)].index.tolist()\n",
    "len(index_vitamin_c)\n"
   ]
  },
  {
   "cell_type": "code",
   "execution_count": null,
   "id": "964dc78d",
   "metadata": {},
   "outputs": [],
   "source": [
    "index_energy_100g = df2[(df2['energy_100g']>13600) | (df2['energy_100g']<0)].index\n",
    "len(index_energy_100g)"
   ]
  },
  {
   "cell_type": "code",
   "execution_count": null,
   "id": "9573b074",
   "metadata": {},
   "outputs": [],
   "source": [
    "index_energy_100g"
   ]
  },
  {
   "cell_type": "code",
   "execution_count": null,
   "id": "253a2d7e",
   "metadata": {},
   "outputs": [],
   "source": [
    "df2.notnull().sum().sum()"
   ]
  },
  {
   "cell_type": "code",
   "execution_count": null,
   "id": "11b8314d",
   "metadata": {},
   "outputs": [],
   "source": [
    "#Suppression des valeurs aberrantes des variables 'fat_100g' et 'saturated-fat_100g'\n",
    "\n",
    "code_aber1 = index_fat \n",
    "df2 = df2[~df2['code'].isin(code_aber1)]"
   ]
  },
  {
   "cell_type": "code",
   "execution_count": null,
   "id": "2f63136d",
   "metadata": {},
   "outputs": [],
   "source": [
    "df2.shape"
   ]
  },
  {
   "cell_type": "code",
   "execution_count": null,
   "id": "31649861",
   "metadata": {},
   "outputs": [],
   "source": [
    "# Remplacement des valeurs aberrantes des variables 'carbohydrates_100g' , 'sugars_100g' , 'fiber_100g' et 'salt_100g' par valeur max\n",
    "\n",
    "df2.loc[index_carbo, 'carbohydrates_100g'] =  df2['carbohydrates_100g'].max()\n",
    "\n",
    "df2.loc[index_sugar, 'sugars_100g'] =  df2['sugars_100g'].max()\n",
    "df2.loc[index_sugar, 'fiber_100g'] =  df2['fiber_100g'].max()\n",
    "df2.loc[index_salt, 'salt_100g'] =  df2['salt_100g'].max()"
   ]
  },
  {
   "cell_type": "code",
   "execution_count": null,
   "id": "917ed380",
   "metadata": {},
   "outputs": [],
   "source": [
    "df2.shape"
   ]
  },
  {
   "cell_type": "code",
   "execution_count": null,
   "id": "0ce311ca",
   "metadata": {},
   "outputs": [],
   "source": [
    "# Remplacement des valeurs aberrantes de la variable  'energy_100g' par valeur NaN\n",
    "\n",
    "df2.loc[(df2['energy_100g']>13600) | (df2['energy_100g']<0), 'energy_100g']=np.nan"
   ]
  },
  {
   "cell_type": "code",
   "execution_count": null,
   "id": "13067ca9",
   "metadata": {},
   "outputs": [],
   "source": [
    "# Nombre de valeurs manquantes dans le dataset  df2\n",
    "\n",
    "df2.isna().sum().sum()"
   ]
  },
  {
   "cell_type": "code",
   "execution_count": null,
   "id": "a3b886b4",
   "metadata": {},
   "outputs": [],
   "source": [
    "df2.info()"
   ]
  },
  {
   "cell_type": "markdown",
   "id": "3d76ce66",
   "metadata": {},
   "source": [
    "<b> Valeur manquantes <b>"
   ]
  },
  {
   "cell_type": "code",
   "execution_count": null,
   "id": "6a4a13af",
   "metadata": {},
   "outputs": [],
   "source": [
    "# Distribution des variables   'additives_n', 'energy_100g', 'omega-3-fat_100g' \n",
    "#'vitamin-a_100g', 'vitamin-c_100g'\n",
    "\n",
    "list_var1=['additives_n', 'energy_100g', 'omega-3-fat_100g','vitamin-a_100g', 'vitamin-c_100g']\n",
    "\n",
    "df3=df2[list_var1]\n",
    "\n",
    "np.random.seed(0)\n",
    "ind = np.random.randint(len(df3), size= (len(df3)//2))\n",
    "df4 = df3.iloc[ind,:]\n",
    "df4 = df4.select_dtypes('float')\n",
    "\n",
    "for col in df4.columns:\n",
    "    \n",
    "    plt.figure()\n",
    "    sns.set_context('poster', font_scale = 1)\n",
    "    sns.displot(data=df4[col].dropna(), bins = 10, kde=True,  aspect = 2)\n",
    "    #sns.displot(data=df4[col].dropna(), bins = 10, kde=False, color='deepskyblue', aspect = 2, linewidth=0)\n",
    "\n",
    "plt.show()\n",
    "    \n",
    "    "
   ]
  },
  {
   "cell_type": "code",
   "execution_count": null,
   "id": "cc6ed484",
   "metadata": {},
   "outputs": [],
   "source": [
    "df3.shape"
   ]
  },
  {
   "cell_type": "code",
   "execution_count": null,
   "id": "977dc26e",
   "metadata": {},
   "outputs": [],
   "source": [
    "df4.info()"
   ]
  },
  {
   "cell_type": "code",
   "execution_count": null,
   "id": "e09f7859",
   "metadata": {},
   "outputs": [],
   "source": [
    "df4['additives_n'].max()"
   ]
  },
  {
   "cell_type": "code",
   "execution_count": null,
   "id": "f6219370",
   "metadata": {},
   "outputs": [],
   "source": [
    "len(ind)"
   ]
  },
  {
   "cell_type": "code",
   "execution_count": null,
   "id": "af6a333e",
   "metadata": {},
   "outputs": [],
   "source": [
    "df3.shape"
   ]
  },
  {
   "cell_type": "code",
   "execution_count": null,
   "id": "26273e54",
   "metadata": {
    "scrolled": true
   },
   "outputs": [],
   "source": [
    "# Remplacer les valeurs manquantes NaN de 'additives_n', 'energy_100g', 'omega-3-fat_100g' \n",
    "#'vitamin-a_100g', 'vitamin-c_100g', par des zeros.\n",
    "\n",
    "list_var1=['additives_n', 'energy_100g', 'omega-3-fat_100g','vitamin-a_100g', 'vitamin-c_100g']\n",
    "for var1 in list_var1:\n",
    "    \n",
    "    df2[var1] = df2[var1].fillna(0)\n",
    "\n"
   ]
  },
  {
   "cell_type": "code",
   "execution_count": null,
   "id": "cb044b0f",
   "metadata": {},
   "outputs": [],
   "source": [
    "# Distribution des variables 'fat_100g','saturated-fat_100g','proteins_100g','fiber_100g','nutrition-score-fr_100g'\n",
    "list_var2 = ['fat_100g','saturated-fat_100g','proteins_100g','fiber_100g','nutrition-score-fr_100g']\n",
    "\n",
    "df5=df2[list_var2]\n",
    "\n",
    "np.random.seed(0)\n",
    "ind = np.random.randint(len(df5), size= (len(df5)//2))\n",
    "df6 = df5.iloc[ind,:]\n",
    "df6 = df6.select_dtypes('float')\n",
    "\n",
    "for col in df6.columns:\n",
    "    \n",
    "    plt.figure()\n",
    "    sns.set_context('poster', font_scale = 1)\n",
    "    #sns.displot(data=df6[col].dropna(), fill=True, kde=True, aspect = 2)\n",
    "    sns.displot(data=df6[col].dropna(), bins = 10, kde=True,  aspect = 2)\n",
    "    plt.show()"
   ]
  },
  {
   "cell_type": "code",
   "execution_count": null,
   "id": "d6aacdd5",
   "metadata": {},
   "outputs": [],
   "source": [
    "# Remplacer des valeurs manquantes NaN de certaines variables par la mediane \n",
    "list_var2 = ['fat_100g','saturated-fat_100g','proteins_100g','fiber_100g','nutrition-score-fr_100g']\n",
    "\n",
    "for var2 in list_var2:\n",
    "\n",
    "    df2[var2] = df2[var2].fillna(df2[var2].median())\n",
    "\n",
    "\n",
    "  "
   ]
  },
  {
   "cell_type": "code",
   "execution_count": null,
   "id": "90efc67b",
   "metadata": {},
   "outputs": [],
   "source": [
    "df2['fat_100g']"
   ]
  },
  {
   "cell_type": "code",
   "execution_count": null,
   "id": "f24bb6e7",
   "metadata": {},
   "outputs": [],
   "source": [
    "# Distribution des variables de 'carbohydrates_100g', 'sugars_100g', 'salt_100g','sodium_100g'\n",
    "\n",
    "list_var3=['carbohydrates_100g', 'sugars_100g', 'salt_100g','sodium_100g']\n",
    "\n",
    "df9=df2[list_var3]\n",
    "\n",
    "np.random.seed(0)\n",
    "ind = np.random.randint(len(df9), size= (len(df9)//2))\n",
    "df10 = df9.iloc[ind,:]\n",
    "df10 = df10.select_dtypes('float')\n",
    "\n",
    "for col in df10.columns:\n",
    "    \n",
    "    plt.figure()\n",
    "    sns.set_context('poster', font_scale = 1)\n",
    "    #sns.displot(data=df10[col].dropna(), color='deepskyblue', kde=True, fill=True, common_norm=False, linewidth=0)\n",
    "    sns.displot(data=df10[col].dropna(), bins = 10, kde=True,  aspect = 2)\n",
    "   # sns.displot(data=df10[col].dropna(), kde=True,  aspect = 2)\n",
    "    plt.show()"
   ]
  },
  {
   "cell_type": "code",
   "execution_count": null,
   "id": "7ebdf09d",
   "metadata": {},
   "outputs": [],
   "source": [
    "# Remplacer les valeur manquantes NaN  de 'carbohydrates_100g', 'sugars_100g', 'salt_100g','sodium_100g'\n",
    "# en utilisant IterativeImputer\n",
    "\n",
    "# Copy the data\n",
    "df9_impute_it = df9.copy(deep=True)\n",
    "\n",
    "# Inititialization\n",
    "ii_imp = IterativeImputer(estimator=ExtraTreesRegressor(), max_iter=10, random_state=0)\n",
    "\n",
    "# Tranform\n",
    "df9_impute_it.loc[:, :] = ii_imp.fit_transform(df9_impute_it)\n"
   ]
  },
  {
   "cell_type": "code",
   "execution_count": null,
   "id": "f91b6fcf",
   "metadata": {},
   "outputs": [],
   "source": [
    "df9 = df9_impute_it\n",
    "df2[list_var3]=df9"
   ]
  },
  {
   "cell_type": "code",
   "execution_count": null,
   "id": "7731ea5b",
   "metadata": {},
   "outputs": [],
   "source": [
    "df9_impute_it.isna().sum()"
   ]
  },
  {
   "cell_type": "code",
   "execution_count": null,
   "id": "6224523b",
   "metadata": {},
   "outputs": [],
   "source": [
    "df2[list_var3].info()"
   ]
  },
  {
   "cell_type": "code",
   "execution_count": null,
   "id": "4ed96a7f",
   "metadata": {},
   "outputs": [],
   "source": [
    "df2.info()"
   ]
  },
  {
   "cell_type": "code",
   "execution_count": null,
   "id": "5ccd8bda",
   "metadata": {},
   "outputs": [],
   "source": [
    "print(df2.isnull().values.any())"
   ]
  },
  {
   "cell_type": "code",
   "execution_count": null,
   "id": "b8ddf491",
   "metadata": {},
   "outputs": [],
   "source": [
    "df2.isnull().sum()"
   ]
  },
  {
   "cell_type": "code",
   "execution_count": null,
   "id": "65dcc45f",
   "metadata": {},
   "outputs": [],
   "source": [
    "df2['pnns_groups_1' ]"
   ]
  },
  {
   "cell_type": "code",
   "execution_count": null,
   "id": "c87d708f",
   "metadata": {},
   "outputs": [],
   "source": [
    "#Check Column Contains a Value in DataFrame\n",
    "print('Sugary snacks' in set(df2['pnns_groups_1']))"
   ]
  },
  {
   "cell_type": "code",
   "execution_count": null,
   "id": "039c3fbe",
   "metadata": {},
   "outputs": [],
   "source": [
    "print('sugary-snacks' in set(df2['pnns_groups_1']))"
   ]
  },
  {
   "cell_type": "code",
   "execution_count": null,
   "id": "72c3120f",
   "metadata": {},
   "outputs": [],
   "source": [
    "# Eliminer une des variables sugary-Snack et Sugary Snack dans pnns_group1\n",
    "# En utilisant la method 'replace'\n",
    "df2['pnns_groups_1'] = df2['pnns_groups_1'].replace(['sugary-snacks'],'Sugary snacks')"
   ]
  },
  {
   "cell_type": "code",
   "execution_count": null,
   "id": "145fa940",
   "metadata": {},
   "outputs": [],
   "source": [
    "print('sugary-snacks' in set(df2['pnns_groups_1']))"
   ]
  },
  {
   "cell_type": "code",
   "execution_count": null,
   "id": "a97f6d09",
   "metadata": {},
   "outputs": [],
   "source": [
    "print('Sugary snacks' in set(df2['pnns_groups_1']))"
   ]
  },
  {
   "cell_type": "code",
   "execution_count": null,
   "id": "64a942ab",
   "metadata": {},
   "outputs": [],
   "source": [
    "# Eliminer une des variables oereals-and-potatoes et Cereals-and-potatoes dans pnns_group1\n",
    "# En utilisant la method 'replace'\n",
    "df2['pnns_groups_1'] = df2['pnns_groups_1'].replace(['oereals-and-potatoes'],'Cereals and potatoes')"
   ]
  },
  {
   "cell_type": "code",
   "execution_count": null,
   "id": "d11440c9",
   "metadata": {},
   "outputs": [],
   "source": [
    "print('oereals-and-potatoes' in set(df2['pnns_groups_1']))"
   ]
  },
  {
   "cell_type": "code",
   "execution_count": null,
   "id": "cf806f70",
   "metadata": {},
   "outputs": [],
   "source": [
    "df2.shape"
   ]
  },
  {
   "cell_type": "code",
   "execution_count": null,
   "id": "a77cdd4a",
   "metadata": {},
   "outputs": [],
   "source": [
    "df2['pnns_groups_1']"
   ]
  },
  {
   "cell_type": "code",
   "execution_count": null,
   "id": "763d7249",
   "metadata": {},
   "outputs": [],
   "source": [
    "df2.to_csv('df2.csv')"
   ]
  }
 ],
 "metadata": {
  "kernelspec": {
   "display_name": "Python 3 (ipykernel)",
   "language": "python",
   "name": "python3"
  },
  "language_info": {
   "codemirror_mode": {
    "name": "ipython",
    "version": 3
   },
   "file_extension": ".py",
   "mimetype": "text/x-python",
   "name": "python",
   "nbconvert_exporter": "python",
   "pygments_lexer": "ipython3",
   "version": "3.9.13"
  }
 },
 "nbformat": 4,
 "nbformat_minor": 5
}
