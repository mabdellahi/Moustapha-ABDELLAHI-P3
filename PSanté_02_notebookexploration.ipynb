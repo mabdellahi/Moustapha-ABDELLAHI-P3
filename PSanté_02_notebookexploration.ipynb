{
 "cells": [
  {
   "cell_type": "code",
   "execution_count": null,
   "id": "299fc5ce",
   "metadata": {},
   "outputs": [],
   "source": [
    "# importer les packages\n",
    "%matplotlib inline\n",
    "import pandas as pd\n",
    "import numpy as np\n",
    "import matplotlib.pyplot as plt\n",
    "import seaborn as sns\n",
    "from functools import reduce\n",
    "from scipy.stats import norm\n",
    "import scipy.stats as stats\n",
    "import pandas as pd\n",
    "import numpy as np\n",
    "from sklearn import decomposition\n",
    "from sklearn import preprocessing\n",
    "from pandas import DataFrame, Series\n",
    "from sklearn.decomposition import PCA\n",
    "from sklearn.preprocessing import StandardScaler\n",
    "pd.set_option('display.max_columns', 200)\n",
    "pd.set_option('display.max_rows', 1000)\n",
    "pd.set_option('display.max_colwidth', None)\n"
   ]
  },
  {
   "cell_type": "code",
   "execution_count": null,
   "id": "d01bac5f",
   "metadata": {},
   "outputs": [],
   "source": [
    "# Installer le package missingno\n",
    "\n",
    "!pip install missingno"
   ]
  },
  {
   "cell_type": "code",
   "execution_count": null,
   "id": "e2d26c63",
   "metadata": {},
   "outputs": [],
   "source": [
    "import missingno as msno"
   ]
  },
  {
   "cell_type": "code",
   "execution_count": null,
   "id": "ea0053ca",
   "metadata": {},
   "outputs": [],
   "source": [
    "# Lire le dataframe nettoye df2\n",
    "df2=pd.read_csv(\"df2.csv\")"
   ]
  },
  {
   "cell_type": "code",
   "execution_count": null,
   "id": "c1405e60",
   "metadata": {},
   "outputs": [],
   "source": [
    "# Pour voir les valeurs manquantes\n",
    "df2.info()"
   ]
  },
  {
   "cell_type": "code",
   "execution_count": null,
   "id": "f6482979",
   "metadata": {},
   "outputs": [],
   "source": [
    "df2.head(2)\n"
   ]
  },
  {
   "cell_type": "code",
   "execution_count": null,
   "id": "890d99f3",
   "metadata": {},
   "outputs": [],
   "source": [
    "# To display the missing values in the dataframe\n",
    "msno.bar(df2)\n"
   ]
  },
  {
   "cell_type": "code",
   "execution_count": null,
   "id": "3bb88e30",
   "metadata": {},
   "outputs": [],
   "source": [
    "#Les indicateurs statistiques\n",
    "\n",
    "df2.describe()"
   ]
  },
  {
   "cell_type": "code",
   "execution_count": null,
   "id": "7ba35d79",
   "metadata": {},
   "outputs": [],
   "source": [
    "# features \n",
    "\n",
    "features = ['code', 'additives_n','nutrition_grade_fr', 'pnns_groups_1', 'pnns_groups_2',\n",
    "            'energy_100g', 'omega-3-fat_100g','fat_100g', 'saturated-fat_100g', 'carbohydrates_100g',  \n",
    "            'sugars_100g','fiber_100g','proteins_100g', 'salt_100g','sodium_100g', 'vitamin-a_100g',\n",
    "            'vitamin-c_100g', 'nutrition-score-fr_100g']"
   ]
  },
  {
   "cell_type": "code",
   "execution_count": null,
   "id": "42348652",
   "metadata": {},
   "outputs": [],
   "source": [
    "# features numeriques\n",
    "\n",
    "features_num= ['additives_n','energy_100g', 'omega-3-fat_100g','fat_100g', 'saturated-fat_100g',\n",
    "               'carbohydrates_100g', 'sugars_100g','fiber_100g','proteins_100g', \n",
    "               'salt_100g','sodium_100g', 'vitamin-a_100g', 'vitamin-c_100g','nutrition-score-fr_100g']"
   ]
  },
  {
   "cell_type": "markdown",
   "id": "9f6a20f3",
   "metadata": {},
   "source": [
    "<b> Analyse univariee des variables <b>"
   ]
  },
  {
   "cell_type": "markdown",
   "id": "8f399c72",
   "metadata": {},
   "source": [
    " <b> Features numeriques <b>"
   ]
  },
  {
   "cell_type": "code",
   "execution_count": null,
   "id": "c6dee103",
   "metadata": {},
   "outputs": [],
   "source": [
    " # Boxplot des features numeriques\n",
    "features_num= ['additives_n','energy_100g', 'omega-3-fat_100g','fat_100g', 'saturated-fat_100g',\n",
    "               'carbohydrates_100g', 'sugars_100g','fiber_100g','proteins_100g', \n",
    "               'salt_100g','sodium_100g', 'vitamin-a_100g', 'vitamin-c_100g','nutrition-score-fr_100g']\n",
    " \n",
    "df11=df2[features_num]\n",
    "\n",
    "np.random.seed(0)\n",
    "ind = np.random.randint(len(df11), size= (len(df11)//2))\n",
    "df = df11.iloc[ind,:]\n",
    "df = df.select_dtypes('float')\n",
    "\n",
    "for col in df.columns:\n",
    "    plt.figure()\n",
    "    sns.set_context('poster', font_scale = 1)\n",
    "    ax = sns.boxplot(x=col, data=df11.dropna(), color='deepskyblue', showfliers=False)\n",
    "    \n",
    "plt.show()"
   ]
  },
  {
   "cell_type": "code",
   "execution_count": null,
   "id": "c32f606f",
   "metadata": {},
   "outputs": [],
   "source": [
    "# Quartiles for 'additives_n'\n",
    "np.percentile(df2['additives_n'], [25, 50, 75])"
   ]
  },
  {
   "cell_type": "code",
   "execution_count": null,
   "id": "4b42c59c",
   "metadata": {},
   "outputs": [],
   "source": [
    "df2['additives_n'].quantile(0.99)"
   ]
  },
  {
   "cell_type": "code",
   "execution_count": null,
   "id": "b171f194",
   "metadata": {},
   "outputs": [],
   "source": [
    "df2['additives_n'].quantile(0.01)"
   ]
  },
  {
   "cell_type": "code",
   "execution_count": null,
   "id": "6e18b636",
   "metadata": {},
   "outputs": [],
   "source": [
    "# Distribution des features numeriques\n",
    "\n",
    "df11=df2[features_num]\n",
    "\n",
    "np.random.seed(0)\n",
    "ind = np.random.randint(len(df11), size= (len(df11)//2))\n",
    "df = df11.iloc[ind,:]\n",
    "df = df.select_dtypes('float')\n",
    "\n",
    "for col in df.columns:\n",
    "    \n",
    "    plt.figure()\n",
    "    sns.set_context('poster', font_scale = 1)\n",
    "    sns.kdeplot(data=df11[col].dropna(), bw_adjust=3, color='deepskyblue', fill=True, common_norm=False)\n",
    "    plt.show()"
   ]
  },
  {
   "cell_type": "markdown",
   "id": "d028c6a2",
   "metadata": {},
   "source": [
    "<b> Features categorielles <b>"
   ]
  },
  {
   "cell_type": "code",
   "execution_count": null,
   "id": "019c1a7e",
   "metadata": {},
   "outputs": [],
   "source": [
    " #features categorielles \n",
    "\n",
    "features_cat = ['nutrition_grade_fr', 'pnns_groups_1', 'pnns_groups_2']"
   ]
  },
  {
   "cell_type": "code",
   "execution_count": null,
   "id": "44b4a8fd",
   "metadata": {},
   "outputs": [],
   "source": [
    "df12=df2[features_cat]"
   ]
  },
  {
   "cell_type": "code",
   "execution_count": null,
   "id": "4489a7d2",
   "metadata": {},
   "outputs": [],
   "source": [
    "# Distribution des variables de la categorie 'pnns_groups_1'\n",
    "degrees = 90\n",
    "fig = plt.figure(figsize=(17, 10))\n",
    "ax = plt.axes()\n",
    "plt.xticks(rotation=degrees)\n",
    "meanprops = {'marker':'o', 'markeredgecolor':'black','markerfacecolor':'firebrick'}\n",
    "sns.boxplot(x = 'pnns_groups_1', y = 'additives_n',data = df2, showmeans=True, meanprops=meanprops).set_title('features boxplot : pnns_groups_1');"
   ]
  },
  {
   "cell_type": "code",
   "execution_count": null,
   "id": "455fe602",
   "metadata": {},
   "outputs": [],
   "source": [
    "# Distribution des variables de la categorie 'pnns_groups_2'\n",
    "degrees = 90\n",
    "fig = plt.figure(figsize=(17, 10))\n",
    "ax = plt.axes()\n",
    "plt.xticks(rotation=degrees)\n",
    "meanprops = {'marker':'o', 'markeredgecolor':'black','markerfacecolor':'firebrick'}\n",
    "sns.boxplot(x = 'pnns_groups_2', y = 'additives_n', data = df2, showmeans=True, meanprops=meanprops).set_title('features boxplot : pnns_groups_2');\n"
   ]
  },
  {
   "cell_type": "markdown",
   "id": "42f1f065",
   "metadata": {},
   "source": [
    "<b> Choix du groupe de test 'pnns _roup_1' <b>\n"
   ]
  },
  {
   "cell_type": "markdown",
   "id": "72f3b75f",
   "metadata": {},
   "source": [
    "Comme l'effet des additifs dans les groupes 'pnns _roup_1' et 'pnns_group_2' est similaire, dans la suite nous considérons uniquement le groupe 'pnns_group_1'."
   ]
  },
  {
   "cell_type": "code",
   "execution_count": null,
   "id": "9b613840",
   "metadata": {},
   "outputs": [],
   "source": [
    "# Répartition de Nutrition_grades_fr\n",
    "\n",
    "nutrition_grade_fr = df2.groupby(by='nutrition_grade_fr')['code'].nunique().sort_values(ascending=False)\n",
    "fig, ax = plt.subplots(figsize=(12, 12), subplot_kw=dict(aspect=\"equal\"))\n",
    "\n",
    "plt.pie(nutrition_grade_fr, labels=nutrition_grade_fr.index, \n",
    "        startangle=0, \n",
    "        shadow=True,\n",
    "        autopct='%1.1f%%',\n",
    "        textprops=dict(color=\"black\",size=12, weight=\"bold\"))\n",
    "plt.title(\"Répartition des nutrition_grade_fr\")\n",
    "plt.show()"
   ]
  },
  {
   "cell_type": "code",
   "execution_count": null,
   "id": "2c0b5d3b",
   "metadata": {},
   "outputs": [],
   "source": [
    "# Répartition de pnns_groups_1\n",
    "\n",
    "pnns_groups_1 = df2.groupby(by='pnns_groups_1')['code'].nunique().sort_values(ascending=False)\n",
    "fig, ax = plt.subplots(figsize=(18, 18), subplot_kw=dict(aspect=\"equal\"))\n",
    "\n",
    "plt.pie(pnns_groups_1, labels=pnns_groups_1.index, \n",
    "        startangle=0, \n",
    "        shadow=True,\n",
    "        autopct='%1.1f%%',\n",
    "        textprops=dict(color=\"black\",size=13, weight=\"bold\"))\n",
    "plt.title(\"Répartition du pnns_groups_1\")\n",
    "plt.show()"
   ]
  },
  {
   "cell_type": "code",
   "execution_count": null,
   "id": "0a65fdfc",
   "metadata": {},
   "outputs": [],
   "source": [
    "df2[features_cat].info()"
   ]
  },
  {
   "cell_type": "markdown",
   "id": "758e250b",
   "metadata": {},
   "source": [
    "<b> Analyse bivariee <b>"
   ]
  },
  {
   "cell_type": "code",
   "execution_count": null,
   "id": "a6bc6ef9",
   "metadata": {},
   "outputs": [],
   "source": [
    "features_num= ['additives_n','energy_100g', 'omega-3-fat_100g','fat_100g', \n",
    "            'saturated-fat_100g', 'carbohydrates_100g',  \n",
    "            'sugars_100g','fiber_100g','proteins_100g', 'salt_100g','sodium_100g', \n",
    "            'vitamin-a_100g', 'vitamin-c_100g', 'nutrition-score-fr_100g']"
   ]
  },
  {
   "cell_type": "code",
   "execution_count": null,
   "id": "938b775f",
   "metadata": {},
   "outputs": [],
   "source": [
    "\n",
    "# correlation entre variables numeriques\n",
    "\n",
    "np.random.seed(0)\n",
    "ind = np.random.randint(len(df11), size= (len(df11)//2))\n",
    "df = df11.iloc[ind,:]\n",
    "df = df.select_dtypes('float')\n",
    "\n",
    "#for col in df.columns:\n",
    "plt.figure(figsize=(8,8))\n",
    "sns.set_context('poster', font_scale = 1)\n",
    "sns.scatterplot(data=df11, x='energy_100g', y='fat_100g' )\n",
    "  \n",
    "plt.show()"
   ]
  },
  {
   "cell_type": "code",
   "execution_count": null,
   "id": "980cac92",
   "metadata": {},
   "outputs": [],
   "source": [
    "# correlation entre variables numeriques\n",
    "\n",
    "np.random.seed(0)\n",
    "ind = np.random.randint(len(df11), size= (len(df11)//2))\n",
    "df = df11.iloc[ind,:]\n",
    "df = df.select_dtypes('float')\n",
    "\n",
    "#for col in df.columns:\n",
    "plt.figure(figsize=(8,8))\n",
    "sns.set_context('poster', font_scale = 1)\n",
    "sns.scatterplot(data=df11, x='energy_100g', y='carbohydrates_100g' )\n",
    "  \n",
    "plt.show()"
   ]
  },
  {
   "cell_type": "code",
   "execution_count": null,
   "id": "21c7b814",
   "metadata": {},
   "outputs": [],
   "source": [
    "# correlation entre variables numeriques\n",
    "\n",
    "np.random.seed(0)\n",
    "ind = np.random.randint(len(df11), size= (len(df11)//2))\n",
    "df = df11.iloc[ind,:]\n",
    "df = df.select_dtypes('float')\n",
    "\n",
    "#for col in df.columns:\n",
    "plt.figure(figsize=(8,8))\n",
    "sns.set_context('poster', font_scale = 1)\n",
    "sns.scatterplot(data=df11, x='energy_100g', y='additives_n' )\n",
    "  \n",
    "plt.show()"
   ]
  },
  {
   "cell_type": "code",
   "execution_count": null,
   "id": "7122d50a",
   "metadata": {},
   "outputs": [],
   "source": [
    "# correlation entre variables numeriques\n",
    "\n",
    "np.random.seed(0)\n",
    "ind = np.random.randint(len(df11), size= (len(df11)//2))\n",
    "df = df11.iloc[ind,:]\n",
    "df = df.select_dtypes('float')\n",
    "\n",
    "#for col in df.columns:\n",
    "plt.figure(figsize=(8,8))\n",
    "sns.set_context('poster', font_scale = 1)\n",
    "sns.scatterplot(data=df11, x='energy_100g', y='omega-3-fat_100g' )\n",
    "  \n",
    "plt.show()"
   ]
  },
  {
   "cell_type": "code",
   "execution_count": null,
   "id": "3ef2bb17",
   "metadata": {},
   "outputs": [],
   "source": [
    "# Pairplot des variables numeriques\n",
    "features_target =['additives_n','energy_100g','omega-3-fat_100g','fat_100g','sugars_100g']\n",
    "sns.set(rc = {'figure.figsize':(10,8)})\n",
    "sns.pairplot(df2[features_target])"
   ]
  },
  {
   "cell_type": "code",
   "execution_count": null,
   "id": "ef81af3e",
   "metadata": {},
   "outputs": [],
   "source": [
    "# Heatmap de correlation\n",
    "\n",
    "fig, ax = plt.subplots(figsize=(8,8))  \n",
    "sns.heatmap(df11.corr(),annot = False,square=True);"
   ]
  },
  {
   "cell_type": "code",
   "execution_count": null,
   "id": "94d49f73",
   "metadata": {},
   "outputs": [],
   "source": [
    "df2.info()"
   ]
  },
  {
   "cell_type": "markdown",
   "id": "d07beee4",
   "metadata": {},
   "source": [
    "<b> Réduction dimensionnelle<b>"
   ]
  },
  {
   "cell_type": "markdown",
   "id": "68403b0e",
   "metadata": {},
   "source": [
    "Pour réduire la dimension du jeux de données, nous allons appliquer une Analyse en Composantes Principale (PCA) . C'est une méthode d'analyse de données multivariées qui permet d'explorer des jeux de données multidimensionnels composés de variables quantitatives."
   ]
  },
  {
   "cell_type": "code",
   "execution_count": null,
   "id": "a010ac73",
   "metadata": {},
   "outputs": [],
   "source": [
    "\n",
    "from matplotlib.collections import LineCollection\n",
    "\n",
    "def display_circles(pcs, n_comp, pca, axis_ranks, labels=None, label_rotation=0, lims=None):\n",
    "    for d1, d2 in axis_ranks: # On affiche les 3 premiers plans factoriels, donc les 6 premières composantes\n",
    "        if d2 < n_comp:\n",
    "\n",
    "            # initialisation de la figure\n",
    "            fig, ax = plt.subplots(figsize=(7,6))\n",
    "\n",
    "            # détermination des limites du graphique\n",
    "            if lims is not None :\n",
    "                xmin, xmax, ymin, ymax = lims\n",
    "            elif pcs.shape[1] < 30 :\n",
    "                xmin, xmax, ymin, ymax = -1, 1, -1, 1\n",
    "            else :\n",
    "                xmin, xmax, ymin, ymax = min(pcs[d1,:]), max(pcs[d1,:]), min(pcs[d2,:]), max(pcs[d2,:])\n",
    "\n",
    "            # affichage des flèches\n",
    "            # s'il y a plus de 30 flèches, on n'affiche pas le triangle à leur extrémité\n",
    "            if pcs.shape[1] < 30 :\n",
    "                plt.quiver(np.zeros(pcs.shape[1]), np.zeros(pcs.shape[1]),\n",
    "                   pcs[d1,:], pcs[d2,:], \n",
    "                   angles='xy', scale_units='xy', scale=1, color=\"red\")\n",
    "            else:\n",
    "                lines = [[[0,0],[x,y]] for x,y in pcs[[d1,d2]].T]\n",
    "                ax.add_collection(LineCollection(lines, axes=ax, alpha=.1, color='black'))\n",
    "            \n",
    "            # affichage des noms des variables  \n",
    "            if labels is not None:  \n",
    "                for i,(x, y) in enumerate(pcs[[d1,d2]].T):\n",
    "                    if x >= xmin and x <= xmax and y >= ymin and y <= ymax :\n",
    "                        plt.text(x, y, labels[i], fontsize='14', ha='center', va='center', rotation=label_rotation, color=\"blue\", alpha=0.5)\n",
    "            \n",
    "            # affichage du cercle\n",
    "            circle = plt.Circle((0,0), 1, facecolor='none', edgecolor='b')\n",
    "            plt.gca().add_artist(circle)\n",
    "\n",
    "            # définition des limites du graphique\n",
    "            plt.xlim(xmin, xmax)\n",
    "            plt.ylim(ymin, ymax)\n",
    "        \n",
    "            # affichage des lignes horizontales et verticales\n",
    "            plt.plot([-1, 1], [0, 0], color='grey', ls='--')\n",
    "            plt.plot([0, 0], [-1, 1], color='grey', ls='--')\n",
    "\n",
    "            # nom des axes, avec le pourcentage d'inertie expliqué\n",
    "            plt.xlabel('F{} ({}%)'.format(d1+1, round(100*pca.explained_variance_ratio_[d1],1)))\n",
    "            plt.ylabel('F{} ({}%)'.format(d2+1, round(100*pca.explained_variance_ratio_[d2],1)))\n",
    "\n",
    "            plt.title(\"Cercle des corrélations (F{} et F{})\".format(d1+1, d2+1))\n",
    "            plt.show(block=False)\n",
    "        \n",
    "def display_factorial_planes(X_projected, n_comp, pca, axis_ranks, labels=None, alpha=1, illustrative_var=None):\n",
    "    for d1,d2 in axis_ranks:\n",
    "        if d2 < n_comp:\n",
    " \n",
    "            # initialisation de la figure       \n",
    "            fig = plt.figure(figsize=(7,6))\n",
    "            N = 50\n",
    "            colors = np.random.rand(N)\n",
    "            # affichage des points\n",
    "            if illustrative_var is None:\n",
    "                plt.scatter(X_projected[:, d1], X_projected[:, d2], alpha=alpha)\n",
    "            else:\n",
    "                illustrative_var = np.array(illustrative_var)\n",
    "                for value in np.unique(illustrative_var):\n",
    "                    selected = np.where(illustrative_var == value)\n",
    "                    plt.scatter(X_projected[selected, d1], X_projected[selected, d2], c=colors, alpha=alpha)\n",
    "                plt.legend()\n",
    "                \n",
    "            # détermination des limites du graphique\n",
    "            boundary = np.max(np.abs(X_projected[:, [d1,d2]])) * 1.1\n",
    "            plt.xlim([-boundary,boundary])\n",
    "            plt.ylim([-boundary,boundary])\n",
    "        \n",
    "            # affichage des lignes horizontales et verticales\n",
    "            plt.plot([-100, 100], [0, 0], color='grey', ls='--')\n",
    "            plt.plot([0, 0], [-100, 100], color='grey', ls='--')\n",
    "\n",
    "            # nom des axes, avec le pourcentage d'inertie expliqué\n",
    "            plt.xlabel('F{} ({}%)'.format(d1+1, round(100*pca.explained_variance_ratio_[d1],1)))\n",
    "            plt.ylabel('F{} ({}%)'.format(d2+1, round(100*pca.explained_variance_ratio_[d2],1)))\n",
    "\n",
    "            plt.title(\"Projection des individus (sur F{} et F{})\".format(d1+1, d2+1))\n",
    "            plt.show(block=False)\n",
    "\n"
   ]
  },
  {
   "cell_type": "code",
   "execution_count": null,
   "id": "925c8fd9",
   "metadata": {},
   "outputs": [],
   "source": [
    "def display_scree_plot(pca):\n",
    "    scree = pca.explained_variance_ratio_*100\n",
    "    plt.bar(np.arange(len(scree))+1, scree)\n",
    "    plt.plot(np.arange(len(scree))+1, scree.cumsum(),c=\"red\",marker='o')\n",
    "    #plt.plot(np.arange(len(scree))+1, scree.cumsum(),c=\"red\")\n",
    "    plt.xlabel(\"rang de l'axe d'inertie\")\n",
    "    plt.ylabel(\"pourcentage d'inertie\")\n",
    "    plt.title(\"Eboulis des valeurs propres\")\n",
    "    plt.show(block=False)"
   ]
  },
  {
   "cell_type": "code",
   "execution_count": null,
   "id": "b440429b",
   "metadata": {},
   "outputs": [],
   "source": [
    "from sklearn.decomposition import PCA\n",
    "\n",
    "#Centrage et réduction\n",
    "X = df2.select_dtypes(include=['float64','int64'])\n",
    "sc_X = StandardScaler()\n",
    "X_scaled = sc_X.fit_transform(X)\n",
    "\n",
    "#Instanciation de l'ACP\n",
    "pca = PCA(svd_solver='full').fit(X_scaled)\n",
    "X_projected = pca.transform(X_scaled)"
   ]
  },
  {
   "cell_type": "code",
   "execution_count": null,
   "id": "13ec6553",
   "metadata": {},
   "outputs": [],
   "source": [
    "# import de l'échantillon\n",
    "\n",
    "data = df2.select_dtypes(include=np.number)\n",
    "\n",
    "\n",
    "# choix du nombre de composantes à calculer\n",
    "n_comp = 6\n",
    "\n",
    "# selection des colonnes à prendre en compte dans l'ACP\n",
    "\n",
    "data_pca = data[[\"energy_100g\",\"omega-3-fat_100g\",\"fat_100g\",\"carbohydrates_100g\",'sugars_100g', \"additives_n\"]]\n",
    "\n",
    "# préparation des données pour l'ACP\n",
    "data_pca = data_pca.fillna(data_pca.mean()) # Il est fréquent de remplacer les valeurs inconnues par la moyenne de la variable\n",
    "X = data_pca.values\n",
    "names = data_pca.index #  data.index pour avoir les intitulés\n",
    "features = data_pca.columns\n",
    "\n",
    "# Centrage et Réduction\n",
    "std_scale = preprocessing.StandardScaler().fit(X)\n",
    "X_scaled = std_scale.transform(X)\n",
    "\n",
    "# Calcul des composantes principales\n",
    "pca = decomposition.PCA(n_components=n_comp)\n",
    "pca.fit(X_scaled)\n",
    "\n",
    "# Eboulis des valeurs propres\n",
    "#display_scree_plot(pca)\n"
   ]
  },
  {
   "cell_type": "code",
   "execution_count": null,
   "id": "a87b154b",
   "metadata": {},
   "outputs": [],
   "source": [
    "# Eboulis des valeurs propres\n",
    "display_scree_plot(pca)"
   ]
  },
  {
   "cell_type": "code",
   "execution_count": null,
   "id": "922364cf",
   "metadata": {},
   "outputs": [],
   "source": [
    "# matrice de covariance\n",
    "mean_vec=np.mean(X_scaled,axis=0)\n",
    "cov_mat=(X_scaled-mean_vec).T.dot((X_scaled-mean_vec))/(X_scaled.shape[0]-1)\n",
    "print(cov_mat)"
   ]
  },
  {
   "cell_type": "code",
   "execution_count": null,
   "id": "9422be48",
   "metadata": {},
   "outputs": [],
   "source": [
    "\n",
    "# Cercle des corrélations\n",
    "n_comp=4\n",
    "pcs = pca.components_\n",
    "display_circles(pcs, n_comp, pca, [(0,1),(2,3),(4,5)], labels = np.array(features))\n",
    "\n",
    "#display_circles(pcs, n_comp, pca, [(0,1),(2,3)], labels = np.array(features))"
   ]
  },
  {
   "cell_type": "code",
   "execution_count": null,
   "id": "445f7d65",
   "metadata": {},
   "outputs": [],
   "source": [
    "pcs = pca.components_\n",
    "pcs"
   ]
  },
  {
   "cell_type": "code",
   "execution_count": null,
   "id": "651c7f5c",
   "metadata": {},
   "outputs": [],
   "source": [
    "pca=decomposition.PCA()\n",
    "# configuring the parameteres\n",
    "# the number of components = 2\n",
    "pca.n_components = 2\n",
    "pca_data = pca.fit_transform(data_pca)\n",
    "\n",
    "# attaching the label for each 2-d data point \n",
    "pca_data = np.vstack((pca_data.T, df2['pnns_groups_1'])).T\n",
    "# creating a new data fram which help us in ploting the result data\n",
    "pca_df = pd.DataFrame(data=pca_data, columns=(\"F1\", \"F2\",'pnns_groups_1'))\n",
    "sns.FacetGrid(pca_df, hue=\"pnns_groups_1\", size=10).map(plt.scatter, 'F1', 'F2').add_legend()\n",
    "plt.show()"
   ]
  },
  {
   "cell_type": "code",
   "execution_count": null,
   "id": "8c11a021",
   "metadata": {},
   "outputs": [],
   "source": [
    "pca_data"
   ]
  },
  {
   "cell_type": "markdown",
   "id": "10470059",
   "metadata": {},
   "source": [
    "<b> ANOVA <b>"
   ]
  },
  {
   "cell_type": "markdown",
   "id": "e51390be",
   "metadata": {},
   "source": [
    "Pour vérifier si l'énergie influence le  nutrition_grade_fr, nous pouvons faire une ANOVA. Le choix de ce test est convenable car nous comparons une variable qualitative et une variable quantitative.\n",
    "\n",
    "Les hypothèses posées seront donc les suivantes :\n",
    "\n",
    "H0 : La distribution des échantillons est similaire (et donc l'énergie n'a aucune influence sur le nutrition_grade_fr).\n",
    "\n",
    "H1 : Une ou plusieurs distributions sont inégales.\n",
    "\n",
    "De même, on peut réaliser une ANOVA pour voir la relation entre la catégorie pnns_groups_1 et la variable numérique energy_100\n",
    " \n",
    "Nous commencons par projeter les boxplots de la répartition des nutrition_grade_fr et  de pnns_groups_1,  pour également vérifier les hypothèses de départ liées à l'ANOVA à savoir :\n",
    "- Les observations dans chaque échantillon sont indépendantes et distribuées de manière identique (iid).\n",
    "- Les observations dans chaque échantillon ont la même variance.\n",
    "- Les observations de chaque échantillon sont normalement distribuées."
   ]
  },
  {
   "cell_type": "code",
   "execution_count": null,
   "id": "a62dbcc1",
   "metadata": {},
   "outputs": [],
   "source": [
    "\n",
    "# Représentation d'une variable quantitative 'energy_100g'  et une variable qualitative 'nutrition_grade_fr'\n",
    "degrees = 90\n",
    "fig = plt.figure(figsize=(17, 10))\n",
    "ax = plt.axes()\n",
    "plt.xticks(rotation=degrees)\n",
    "meanprops = {'marker':'o', 'markeredgecolor':'black','markerfacecolor':'firebrick'}\n",
    "sns.boxplot(x = 'nutrition_grade_fr' , y = 'energy_100g', data = df2, showmeans=True, meanprops=meanprops).set_title('features boxplot :nutrition_grade_fr');"
   ]
  },
  {
   "cell_type": "code",
   "execution_count": null,
   "id": "9c7251d7",
   "metadata": {},
   "outputs": [],
   "source": [
    "# Représentation d'une variable quantitative 'energy_100g'  et une variable qualitative 'nutrition_grade_fr'\n",
    "degrees = 90\n",
    "fig = plt.figure(figsize=(17, 10))\n",
    "ax = plt.axes()\n",
    "plt.xticks(rotation=degrees)\n",
    "meanprops = {'marker':'o', 'markeredgecolor':'black','markerfacecolor':'firebrick'}\n",
    "sns.boxplot(x =  'pnns_groups_1'  , y = 'energy_100g', data = df2, showmeans=True, meanprops=meanprops).set_title('features boxplot : pnns_groups_1');"
   ]
  },
  {
   "cell_type": "code",
   "execution_count": null,
   "id": "5ba30193",
   "metadata": {},
   "outputs": [],
   "source": [
    "import statsmodels.api as sm\n",
    "from statsmodels.formula.api import ols\n",
    "\n",
    "df = df2[['energy_100g']].select_dtypes('float')\n",
    "\n",
    "model=ols('energy_100g~nutrition_grade_fr', data=df2).fit()\n",
    "\n",
    "aovRes= sm.stats.anova_lm(model, type=2)\n",
    "aovRes\n",
    "\n"
   ]
  },
  {
   "cell_type": "code",
   "execution_count": null,
   "id": "e24ccec8",
   "metadata": {},
   "outputs": [],
   "source": [
    "\n",
    "model=ols('energy_100g~pnns_groups_1', data=df2).fit()"
   ]
  },
  {
   "cell_type": "code",
   "execution_count": null,
   "id": "7ca695e1",
   "metadata": {},
   "outputs": [],
   "source": [
    "aovRes= sm.stats.anova_lm(model, type=2)\n",
    "aovRes"
   ]
  },
  {
   "cell_type": "markdown",
   "id": "d4f55264",
   "metadata": {},
   "source": [
    "<b> Idee d'application <b>"
   ]
  },
  {
   "cell_type": "markdown",
   "id": "c4a7046e",
   "metadata": {},
   "source": [
    "1. Définir une variable nommée 'nutri_ratio' qui est égale au rapport entre le nombre d'additifs et le nombre d'ingrédients \n",
    "   d'un produit.\n",
    "2. Pour le scoring des produits, on définit une variable nommée 'nutri_class' qui prend en compte les variables 'nutri_ratio', 'omega-3' et 'nutrition_grade'."
   ]
  },
  {
   "cell_type": "code",
   "execution_count": null,
   "id": "cde59971",
   "metadata": {},
   "outputs": [],
   "source": [
    "# creer une variable qui represente le nombre d'ingredients\n",
    "# pour compter le nombre de mots de chaque produit dans'ingredients_text'\n",
    "\n",
    "df2_count=df2['ingredients_text'].str.count(',').add(1).groupby(df2.code).sum()\n",
    "df2_count.head(10)\n"
   ]
  },
  {
   "cell_type": "code",
   "execution_count": null,
   "id": "01e02fee",
   "metadata": {},
   "outputs": [],
   "source": [
    "\n",
    "df2['ingredients_n']=df2['ingredients_text'].str.count(',').add(1)"
   ]
  },
  {
   "cell_type": "code",
   "execution_count": null,
   "id": "f5724935",
   "metadata": {},
   "outputs": [],
   "source": [
    "df2['ingredients_n'].head()"
   ]
  },
  {
   "cell_type": "code",
   "execution_count": null,
   "id": "8000b862",
   "metadata": {},
   "outputs": [],
   "source": [
    "# creation d'une variable qui represente le nombre d'ingredients 'nutriratio'\n",
    "df2['nutriratio']=df2['additives_n']/df2['ingredients_n']"
   ]
  },
  {
   "cell_type": "code",
   "execution_count": null,
   "id": "679032a0",
   "metadata": {},
   "outputs": [],
   "source": [
    "df2.head()"
   ]
  },
  {
   "cell_type": "code",
   "execution_count": null,
   "id": "076b25cb",
   "metadata": {},
   "outputs": [],
   "source": [
    "list_codes = df2['code'].tolist()\n",
    "#list_codes\n",
    "list_codes[0:5]"
   ]
  },
  {
   "cell_type": "code",
   "execution_count": null,
   "id": "166bcb65",
   "metadata": {},
   "outputs": [],
   "source": [
    "list_additives = df2['additives_n'].tolist()\n",
    "list_additives[0:5]"
   ]
  },
  {
   "cell_type": "code",
   "execution_count": null,
   "id": "8b622dbd",
   "metadata": {},
   "outputs": [],
   "source": [
    "list_ingredients = df2['ingredients_n'].tolist()\n",
    "list_ingredients[0:5]"
   ]
  },
  {
   "cell_type": "code",
   "execution_count": null,
   "id": "75eeb191",
   "metadata": {},
   "outputs": [],
   "source": [
    "list_omega3 = df2['omega-3-fat_100g'].tolist()\n",
    "list_omega3[0:5]"
   ]
  },
  {
   "cell_type": "code",
   "execution_count": null,
   "id": "887caf3c",
   "metadata": {},
   "outputs": [],
   "source": [
    "# exemple avec un df\n",
    "\n",
    "df2['nutriclass'] = np.nan\n",
    "\n",
    "df2.loc[(df2['nutriratio']<=0.1) & (df2['omega-3-fat_100g']!=0) & (df2['nutrition_grade_fr']=='a'), 'nutriclass'] = 5\n",
    "df2.loc[(df2['nutriratio']<=0.1) & (df2['omega-3-fat_100g']==0) & (df2['nutrition_grade_fr']=='a'), 'nutriclass'] = 4\n",
    "df2.loc[(0.1<df2['nutriratio'])&(df2['nutriratio']<=0.25) & (df2['omega-3-fat_100g']==0) &(df2['nutrition_grade_fr']=='b'),'nutriclass']= 3\n",
    "df2.loc[(0.25<df2['nutriratio'])&(df2['nutriratio']<=0.5) & (df2['omega-3-fat_100g']==0) &(df2['nutrition_grade_fr']=='c'),'nutriclass']= 2\n",
    "df2.loc[(0.5<df2['nutriratio'])& (df2['nutriratio']<=0.75)& (df2['omega-3-fat_100g']==0) &(df2['nutrition_grade_fr']=='d'),'nutriclass']= 1\n",
    "df2.loc[(0.75<df2['nutriratio']) & (df2['omega-3-fat_100g']==0) & (df2['nutrition_grade_fr']=='e'),'nutriclass']= 0\n",
    "\n",
    "# ... faire de même avec les autres conditions. Attention, il faut mettre la valeur du nutrition_grade_fr en string (entre guillemets) : 'A' et non A. \n",
    "df2['nutriclass'].value_counts()"
   ]
  },
  {
   "cell_type": "code",
   "execution_count": null,
   "id": "eaba81df",
   "metadata": {},
   "outputs": [],
   "source": [
    "df2.loc[(df2['nutriratio']<=0.1) & (df2['nutrition_grade_fr']=='a'), :] "
   ]
  },
  {
   "cell_type": "code",
   "execution_count": null,
   "id": "26647dbe",
   "metadata": {},
   "outputs": [],
   "source": [
    "df2['nutriratio'].describe()"
   ]
  },
  {
   "cell_type": "code",
   "execution_count": null,
   "id": "839767e4",
   "metadata": {},
   "outputs": [],
   "source": [
    "df2['nutrition_grade_fr'].value_counts()"
   ]
  },
  {
   "cell_type": "code",
   "execution_count": null,
   "id": "a9fc145c",
   "metadata": {},
   "outputs": [],
   "source": [
    "df2[(df2['nutriclass']==5)] "
   ]
  },
  {
   "cell_type": "code",
   "execution_count": null,
   "id": "8cd188c3",
   "metadata": {},
   "outputs": [],
   "source": [
    "col=['product_name','nutriratio','nutriclass']\n",
    "df2[(df2['nutriclass']==5)][col]"
   ]
  },
  {
   "cell_type": "code",
   "execution_count": null,
   "id": "5a810555",
   "metadata": {},
   "outputs": [],
   "source": [
    "\n",
    "df2[(df2['nutriclass']==4)][col]"
   ]
  },
  {
   "cell_type": "code",
   "execution_count": null,
   "id": "177fa7bc",
   "metadata": {},
   "outputs": [],
   "source": [
    "\n",
    "df2[(df2['nutriclass']==1)][col]"
   ]
  },
  {
   "cell_type": "code",
   "execution_count": null,
   "id": "64d85e6c",
   "metadata": {},
   "outputs": [],
   "source": [
    "df2[(df2['nutriclass']==0)][col]"
   ]
  }
 ],
 "metadata": {
  "kernelspec": {
   "display_name": "Python 3 (ipykernel)",
   "language": "python",
   "name": "python3"
  },
  "language_info": {
   "codemirror_mode": {
    "name": "ipython",
    "version": 3
   },
   "file_extension": ".py",
   "mimetype": "text/x-python",
   "name": "python",
   "nbconvert_exporter": "python",
   "pygments_lexer": "ipython3",
   "version": "3.9.13"
  }
 },
 "nbformat": 4,
 "nbformat_minor": 5
}
